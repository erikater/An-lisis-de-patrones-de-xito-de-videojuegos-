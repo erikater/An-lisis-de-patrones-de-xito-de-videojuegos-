{
 "cells": [
  {
   "cell_type": "markdown",
   "metadata": {
    "tags": [
     "e5c1f0c2-db9f-43a0-99b9-4875c52427e8"
    ]
   },
   "source": [
    "# Analisis de Datos de usuarios Ice 2016\n",
    "### Realizado por: Erika Sanchez"
   ]
  },
  {
   "cell_type": "markdown",
   "metadata": {},
   "source": [
    "### Etapa 1: Estudiar informacion general sobre el Dadaframe \"Juegos\""
   ]
  },
  {
   "cell_type": "code",
   "execution_count": 52,
   "metadata": {},
   "outputs": [],
   "source": [
    "#importar librerias\n",
    "import pandas as pd\n",
    "import numpy as np\n",
    "from matplotlib import pyplot as plt\n",
    "import seaborn as sns\n",
    "from scipy import stats as st"
   ]
  },
  {
   "cell_type": "code",
   "execution_count": 2,
   "metadata": {},
   "outputs": [],
   "source": [
    "#cargar y leer DataFrame\n",
    "juegos= pd.read_csv(\"games.csv\")"
   ]
  },
  {
   "cell_type": "code",
   "execution_count": 3,
   "metadata": {},
   "outputs": [
    {
     "name": "stdout",
     "output_type": "stream",
     "text": [
      "<class 'pandas.core.frame.DataFrame'>\n",
      "RangeIndex: 16715 entries, 0 to 16714\n",
      "Data columns (total 11 columns):\n",
      " #   Column           Non-Null Count  Dtype  \n",
      "---  ------           --------------  -----  \n",
      " 0   Name             16713 non-null  object \n",
      " 1   Platform         16715 non-null  object \n",
      " 2   Year_of_Release  16446 non-null  float64\n",
      " 3   Genre            16713 non-null  object \n",
      " 4   NA_sales         16715 non-null  float64\n",
      " 5   EU_sales         16715 non-null  float64\n",
      " 6   JP_sales         16715 non-null  float64\n",
      " 7   Other_sales      16715 non-null  float64\n",
      " 8   Critic_Score     8137 non-null   float64\n",
      " 9   User_Score       10014 non-null  object \n",
      " 10  Rating           9949 non-null   object \n",
      "dtypes: float64(6), object(5)\n",
      "memory usage: 1.4+ MB\n",
      "\n"
     ]
    }
   ],
   "source": [
    "#Estudiar informacion general\n",
    "juegos.info()\n",
    "print()"
   ]
  },
  {
   "cell_type": "code",
   "execution_count": 4,
   "metadata": {},
   "outputs": [
    {
     "name": "stdout",
     "output_type": "stream",
     "text": [
      "                        Name Platform  Year_of_Release         Genre  \\\n",
      "0                 Wii Sports      Wii           2006.0        Sports   \n",
      "1          Super Mario Bros.      NES           1985.0      Platform   \n",
      "2             Mario Kart Wii      Wii           2008.0        Racing   \n",
      "3          Wii Sports Resort      Wii           2009.0        Sports   \n",
      "4   Pokemon Red/Pokemon Blue       GB           1996.0  Role-Playing   \n",
      "5                     Tetris       GB           1989.0        Puzzle   \n",
      "6      New Super Mario Bros.       DS           2006.0      Platform   \n",
      "7                   Wii Play      Wii           2006.0          Misc   \n",
      "8  New Super Mario Bros. Wii      Wii           2009.0      Platform   \n",
      "9                  Duck Hunt      NES           1984.0       Shooter   \n",
      "\n",
      "   NA_sales  EU_sales  JP_sales  Other_sales  Critic_Score User_Score Rating  \n",
      "0     41.36     28.96      3.77         8.45          76.0          8      E  \n",
      "1     29.08      3.58      6.81         0.77           NaN        NaN    NaN  \n",
      "2     15.68     12.76      3.79         3.29          82.0        8.3      E  \n",
      "3     15.61     10.93      3.28         2.95          80.0          8      E  \n",
      "4     11.27      8.89     10.22         1.00           NaN        NaN    NaN  \n",
      "5     23.20      2.26      4.22         0.58           NaN        NaN    NaN  \n",
      "6     11.28      9.14      6.50         2.88          89.0        8.5      E  \n",
      "7     13.96      9.18      2.93         2.84          58.0        6.6      E  \n",
      "8     14.44      6.94      4.70         2.24          87.0        8.4      E  \n",
      "9     26.93      0.63      0.28         0.47           NaN        NaN    NaN  \n"
     ]
    }
   ],
   "source": [
    "print(juegos.head(10))"
   ]
  },
  {
   "cell_type": "markdown",
   "metadata": {},
   "source": [
    "### Etapa 2: Pre alistar o preparar los datos para el analisis posterior "
   ]
  },
  {
   "cell_type": "code",
   "execution_count": 5,
   "metadata": {},
   "outputs": [
    {
     "name": "stdout",
     "output_type": "stream",
     "text": [
      "                       name platform  year_of_release         genre  na_sales  \\\n",
      "0                Wii Sports      Wii           2006.0        Sports     41.36   \n",
      "1         Super Mario Bros.      NES           1985.0      Platform     29.08   \n",
      "2            Mario Kart Wii      Wii           2008.0        Racing     15.68   \n",
      "3         Wii Sports Resort      Wii           2009.0        Sports     15.61   \n",
      "4  Pokemon Red/Pokemon Blue       GB           1996.0  Role-Playing     11.27   \n",
      "\n",
      "   eu_sales  jp_sales  other_sales  critic_score user_score rating  \n",
      "0     28.96      3.77         8.45          76.0          8      E  \n",
      "1      3.58      6.81         0.77           NaN        NaN    NaN  \n",
      "2     12.76      3.79         3.29          82.0        8.3      E  \n",
      "3     10.93      3.28         2.95          80.0          8      E  \n",
      "4      8.89     10.22         1.00           NaN        NaN    NaN  \n"
     ]
    }
   ],
   "source": [
    "#corregir errores\n",
    "#reemplazar nombres de columnas en minuscula\n",
    "juegos.columns = [col.lower() for col in juegos.columns]\n",
    "print(juegos.head())"
   ]
  },
  {
   "cell_type": "code",
   "execution_count": 6,
   "metadata": {},
   "outputs": [
    {
     "name": "stdout",
     "output_type": "stream",
     "text": [
      "<class 'pandas.core.frame.DataFrame'>\n",
      "RangeIndex: 16715 entries, 0 to 16714\n",
      "Data columns (total 11 columns):\n",
      " #   Column           Non-Null Count  Dtype  \n",
      "---  ------           --------------  -----  \n",
      " 0   name             16713 non-null  object \n",
      " 1   platform         16715 non-null  object \n",
      " 2   year_of_release  16446 non-null  float64\n",
      " 3   genre            16713 non-null  object \n",
      " 4   na_sales         16715 non-null  float64\n",
      " 5   eu_sales         16715 non-null  float64\n",
      " 6   jp_sales         16715 non-null  float64\n",
      " 7   other_sales      16715 non-null  float64\n",
      " 8   critic_score     8137 non-null   float64\n",
      " 9   user_score       7590 non-null   float64\n",
      " 10  rating           9949 non-null   object \n",
      "dtypes: float64(7), object(4)\n",
      "memory usage: 1.4+ MB\n"
     ]
    }
   ],
   "source": [
    "#ajustar los tipos de datos de las columnas del DF\n",
    "#Year_of_Release a tipo fecha \n",
    "juegos[\"year_of_release\"]=pd.to_datetime(juegos[\"year_of_release\"], format=\"%Y\")\n",
    "juegos[\"year_of_release\"]=juegos[\"year_of_release\"].dt.year\n",
    "#convertir valores no validos como \"tbd\" en NAN para poder cambiar el tipo de columna \"user_score\" a float \n",
    "juegos[\"user_score\"] = pd.to_numeric(juegos[\"user_score\"], errors=\"coerce\")\n",
    "juegos[\"user_score\"]=juegos[\"user_score\"].astype(\"float\")\n",
    "juegos.info()"
   ]
  },
  {
   "cell_type": "code",
   "execution_count": null,
   "metadata": {},
   "outputs": [],
   "source": [
    "<div class=\"alert alert-block alert-success\">\n",
    "<b>Comentar"
   ]
  },
  {
   "cell_type": "markdown",
   "metadata": {},
   "source": [
    "De acuerdo con la investigacion realizada de los datos, aplicando el metodo info() al DF de \"juegos\", se pudo observar que era necesario por Buenas practicas \"snake_case\" convertir los nombres de las columnas del DF en minusculas y realizar ajustes en las columnas \"year_of_release\" y \"user_score\" de tipo de datos que contienen. Lo anterior se realiza para poder dejar los datos listos y depurados y asi no tener erroes o sezgos a la hora de realizar el analisis. "
   ]
  },
  {
   "cell_type": "code",
   "execution_count": 7,
   "metadata": {},
   "outputs": [
    {
     "name": "stdout",
     "output_type": "stream",
     "text": [
      "name                  2\n",
      "platform              0\n",
      "year_of_release     269\n",
      "genre                 2\n",
      "na_sales              0\n",
      "eu_sales              0\n",
      "jp_sales              0\n",
      "other_sales           0\n",
      "critic_score       8578\n",
      "user_score         9125\n",
      "rating             6766\n",
      "dtype: int64\n"
     ]
    }
   ],
   "source": [
    "#identificar varlores ausentes \n",
    "print(juegos.isna().sum())"
   ]
  },
  {
   "cell_type": "code",
   "execution_count": 8,
   "metadata": {},
   "outputs": [
    {
     "name": "stdout",
     "output_type": "stream",
     "text": [
      "para la columna critic_score estas son las mediana y la media:  71.0 68.99436302142053\n",
      "para la columna user_score estas son las mediana y la media:  71.0 68.99436302142053\n",
      "name               0\n",
      "platform           0\n",
      "year_of_release    0\n",
      "genre              0\n",
      "na_sales           0\n",
      "eu_sales           0\n",
      "jp_sales           0\n",
      "other_sales        0\n",
      "critic_score       0\n",
      "user_score         0\n",
      "rating             0\n",
      "dtype: int64\n"
     ]
    }
   ],
   "source": [
    "#gestion de valores ausentes \n",
    "#columna \"name\" y \"genre\" eliminar filas con valores ausentes ya que son muy pocos y no son significativos\n",
    "juegos.dropna(subset=[\"name\", \"genre\"], inplace=True)\n",
    "\n",
    "#columna \"year_of_release\", con fechas de lanzamiento. Se eliminan los valores nulos ya que solo representan el 1.6% aprox de los datos y el analisis requiere esta columna\n",
    "juegos.dropna(subset=[\"year_of_release\"], inplace=True)\n",
    "\n",
    "#columnas \"critic_score\", \"user_score\" y \"rating\", tienen aprox el 50% de los valores ausentes por lo que se deben rellenar\n",
    "mediana_critic_score=juegos[\"critic_score\"].median()\n",
    "media_critic_score=juegos[\"critic_score\"].mean()\n",
    "print(\"para la columna critic_score estas son las mediana y la media: \", mediana_critic_score, media_critic_score)\n",
    "\n",
    "#como la media y la mediana estan cerca, se puede interpretar que no hay valores atipicos en la distribucion, por lo que elijo la media para reemplazar\n",
    "juegos[\"critic_score\"]=juegos[\"critic_score\"].fillna(media_critic_score)\n",
    "\n",
    "mediana_user_score=juegos[\"user_score\"].median()\n",
    "media_user_score=juegos[\"user_score\"].mean()\n",
    "print(\"para la columna user_score estas son las mediana y la media: \", mediana_critic_score, media_critic_score)\n",
    "\n",
    "#como la media y la mediana son casi la misma, se puede interpretar que no hay valores atipicos en la distribucion, por lo que elijo la media para reemplazar\n",
    "juegos[\"user_score\"]=juegos[\"user_score\"].fillna(media_user_score)\n",
    "\n",
    "#columna \"rating\" no tiene sentido realizar operaciones ya que es categorica, se reemplazan valores ausentes por la moda ya que son muchos no se pueden eliminar\n",
    "juegos[\"rating\"].fillna(juegos[\"rating\"].mode()[0], inplace=True)\n",
    "\n",
    "#comprobar que los valores ausentes se hayan gestionado\n",
    "print(juegos.isna().sum())"
   ]
  },
  {
   "cell_type": "markdown",
   "metadata": {},
   "source": [
    "En la anterior celda de codigo explico en comentarios como y porque se gestionaron los valores usentes identificados. \n",
    "Posiblemente se encuentran ausentes los valores porque se encontraban en proceso de calificacion."
   ]
  },
  {
   "cell_type": "code",
   "execution_count": 9,
   "metadata": {},
   "outputs": [
    {
     "name": "stdout",
     "output_type": "stream",
     "text": [
      "                       name platform  year_of_release         genre  na_sales  \\\n",
      "0                Wii Sports      Wii           2006.0        Sports     41.36   \n",
      "1         Super Mario Bros.      NES           1985.0      Platform     29.08   \n",
      "2            Mario Kart Wii      Wii           2008.0        Racing     15.68   \n",
      "3         Wii Sports Resort      Wii           2009.0        Sports     15.61   \n",
      "4  Pokemon Red/Pokemon Blue       GB           1996.0  Role-Playing     11.27   \n",
      "\n",
      "   eu_sales  jp_sales  other_sales  critic_score  user_score rating  \\\n",
      "0     28.96      3.77         8.45     76.000000     8.00000      E   \n",
      "1      3.58      6.81         0.77     68.994363     7.12633      E   \n",
      "2     12.76      3.79         3.29     82.000000     8.30000      E   \n",
      "3     10.93      3.28         2.95     80.000000     8.00000      E   \n",
      "4      8.89     10.22         1.00     68.994363     7.12633      E   \n",
      "\n",
      "   ventas_totales  \n",
      "0           82.54  \n",
      "1           40.24  \n",
      "2           35.52  \n",
      "3           32.77  \n",
      "4           31.38  \n"
     ]
    }
   ],
   "source": [
    "#calcular ventas totales e incluir columna nueva \"ventas_totales\"\n",
    "juegos[\"ventas_totales\"]= juegos[\"na_sales\"]+juegos[\"eu_sales\"]+juegos[\"jp_sales\"]+juegos[\"other_sales\"]\n",
    "print(juegos.head())"
   ]
  },
  {
   "cell_type": "markdown",
   "metadata": {},
   "source": [
    "### Etapa 3: Analizar datos"
   ]
  },
  {
   "cell_type": "code",
   "execution_count": 10,
   "metadata": {},
   "outputs": [
    {
     "name": "stdout",
     "output_type": "stream",
     "text": [
      "year_of_release\n",
      "2008.0    1427\n",
      "2009.0    1426\n",
      "2010.0    1255\n",
      "2007.0    1197\n",
      "2011.0    1136\n",
      "2006.0    1006\n",
      "2005.0     939\n",
      "2002.0     829\n",
      "2003.0     775\n",
      "2004.0     762\n",
      "2012.0     653\n",
      "2015.0     606\n",
      "2014.0     581\n",
      "2013.0     544\n",
      "2016.0     502\n",
      "2001.0     482\n",
      "1998.0     379\n",
      "2000.0     350\n",
      "1999.0     338\n",
      "1997.0     289\n",
      "1996.0     263\n",
      "1995.0     219\n",
      "1994.0     121\n",
      "1993.0      60\n",
      "1981.0      46\n",
      "1992.0      43\n",
      "1991.0      41\n",
      "1982.0      36\n",
      "1986.0      21\n",
      "1989.0      17\n",
      "1983.0      17\n",
      "1990.0      16\n",
      "1987.0      16\n",
      "1988.0      15\n",
      "1985.0      14\n",
      "1984.0      14\n",
      "1980.0       9\n",
      "Name: name, dtype: int64\n"
     ]
    }
   ],
   "source": [
    "#cuantos juegos fueron lanzados por año \n",
    "juegos_xaño=juegos.groupby(\"year_of_release\")[\"name\"].count().sort_values(ascending=False)\n",
    "print(juegos_xaño)"
   ]
  },
  {
   "cell_type": "markdown",
   "metadata": {},
   "source": [
    "**Se observa que despues del año 2000 el numero de videojuegos que se lanzaron empezo a tener una tendencia creciente y tuvo un crecimiento significativo**"
   ]
  },
  {
   "cell_type": "code",
   "execution_count": 11,
   "metadata": {},
   "outputs": [
    {
     "name": "stdout",
     "output_type": "stream",
     "text": [
      "   platform  ventas_totales  porcentaje_pareto   acumulado\n",
      "0       PS2         1233.56          13.994874   13.994874\n",
      "1      X360          961.24          10.905374   24.900248\n",
      "2       PS3          931.34          10.566155   35.466403\n",
      "3       Wii          891.18          10.110535   45.576939\n",
      "4        DS          802.78           9.107628   54.684566\n",
      "5        PS          727.58           8.254475   62.939042\n",
      "6       PS4          314.14           3.563953   66.502995\n",
      "7       GBA          312.88           3.549658   70.052653\n",
      "8       PSP          289.53           3.284750   73.337402\n",
      "9       3DS          257.81           2.924883   76.262285\n",
      "10       PC          255.76           2.901625   79.163911\n",
      "11       GB          254.43           2.886536   82.050447\n",
      "12       XB          251.57           2.854089   84.904537\n",
      "13      NES          251.05           2.848190   87.752727\n",
      "14      N64          218.01           2.473347   90.226074\n",
      "15     SNES          200.04           2.269476   92.495550\n",
      "16       GC          196.73           2.231924   94.727473\n",
      "17     XOne          159.32           1.807503   96.534976\n",
      "18     2600           86.48           0.981125   97.516102\n",
      "19     WiiU           82.19           0.932455   98.448556\n",
      "20      PSV           53.81           0.610480   99.059037\n",
      "21      SAT           33.59           0.381082   99.440119\n",
      "22      GEN           28.35           0.321634   99.761753\n",
      "23       DC           15.95           0.180955   99.942707\n",
      "24      SCD            1.86           0.021102   99.963809\n",
      "25       NG            1.44           0.016337   99.980146\n",
      "26       WS            1.42           0.016110   99.996256\n",
      "27     TG16            0.16           0.001815   99.998071\n",
      "28      3DO            0.10           0.001135   99.999206\n",
      "29       GG            0.04           0.000454   99.999660\n",
      "30     PCFX            0.03           0.000340  100.000000\n"
     ]
    }
   ],
   "source": [
    "#ventas totales por plataforma \n",
    "ventas_xplataforma=juegos.groupby(\"platform\")[\"ventas_totales\"].sum().sort_values(ascending=False)\n",
    "ventas_xplataforma=ventas_xplataforma.reset_index()\n",
    "#identificar principales plataformas con base en sus volumenes de ventas segun el principio de pareto \n",
    "suma=ventas_xplataforma[\"ventas_totales\"].sum()\n",
    "ventas_xplataforma[\"porcentaje_pareto\"]=(ventas_xplataforma[\"ventas_totales\"]/suma)*100\n",
    "# Calcular el porcentaje acumulado\n",
    "ventas_xplataforma[\"acumulado\"] = ventas_xplataforma[\"porcentaje_pareto\"].cumsum()\n",
    "print(ventas_xplataforma)"
   ]
  },
  {
   "cell_type": "markdown",
   "metadata": {},
   "source": [
    "**Las principales plataformas segun el principio de pareto (donde se concentran el 80% de las ventas) son las primeras 11 plataformas**"
   ]
  },
  {
   "cell_type": "code",
   "execution_count": 12,
   "metadata": {},
   "outputs": [
    {
     "name": "stdout",
     "output_type": "stream",
     "text": [
      "    platform  year_of_release  ventas_totales\n",
      "0        PS2           2004.0          211.81\n",
      "1        Wii           2009.0          206.97\n",
      "2        PS2           2002.0          205.38\n",
      "3        PS2           2003.0          184.31\n",
      "4        Wii           2008.0          171.32\n",
      "..       ...              ...             ...\n",
      "233       PC           1988.0            0.03\n",
      "234     PCFX           1996.0            0.03\n",
      "235       DC           2007.0            0.02\n",
      "236      3DO           1994.0            0.02\n",
      "237       DS           1985.0            0.02\n",
      "\n",
      "[238 rows x 3 columns]\n",
      "Plataformas que QUE SI tienen ventas: ['PS4' 'XOne' 'PS3' '3DS' 'X360' 'WiiU' 'PC' 'PSV' 'Wii' 'PSP']\n",
      "Plataformas que YA NO tienen ventas: ['NES', 'GB', 'DS', 'PS2', 'SNES', 'GBA', 'N64', 'PS', 'XB', '2600', 'GC', 'GEN', 'DC', 'SAT', 'SCD', 'WS', 'NG', 'TG16', '3DO', 'GG', 'PCFX']\n",
      "   platform     min     max  duracion\n",
      "13       PC  1985.0  2016.0      32.0\n",
      "4        DS  1985.0  2013.0      29.0\n",
      "5        GB  1988.0  2001.0      14.0\n",
      "28     X360  2005.0  2016.0      12.0\n",
      "19      PSP  2004.0  2015.0      12.0\n",
      "16      PS2  2000.0  2011.0      12.0\n",
      "11      NES  1983.0  1994.0      12.0\n",
      "3        DC  1998.0  2008.0      11.0\n",
      "26      Wii  2006.0  2016.0      11.0\n",
      "17      PS3  2006.0  2016.0      11.0\n",
      "0      2600  1980.0  1989.0      10.0\n",
      "23     SNES  1990.0  1999.0      10.0\n",
      "15       PS  1994.0  2003.0      10.0\n",
      "29       XB  2000.0  2008.0       9.0\n",
      "6       GBA  2000.0  2007.0       8.0\n",
      "7        GC  2001.0  2007.0       7.0\n",
      "10      N64  1996.0  2002.0       7.0\n",
      "2       3DS  2011.0  2016.0       6.0\n",
      "20      PSV  2011.0  2016.0       6.0\n",
      "21      SAT  1994.0  1999.0       6.0\n",
      "27     WiiU  2012.0  2016.0       5.0\n",
      "8       GEN  1990.0  1994.0       5.0\n",
      "12       NG  1993.0  1996.0       4.0\n",
      "30     XOne  2013.0  2016.0       4.0\n",
      "18      PS4  2013.0  2016.0       4.0\n",
      "25       WS  1999.0  2001.0       3.0\n",
      "1       3DO  1994.0  1995.0       2.0\n",
      "22      SCD  1993.0  1994.0       2.0\n",
      "24     TG16  1995.0  1995.0       1.0\n",
      "14     PCFX  1996.0  1996.0       1.0\n",
      "9        GG  1992.0  1992.0       1.0\n",
      "\n",
      "⏳ Ciclo de vida promedio de las plataformas: 8.61 años\n"
     ]
    }
   ],
   "source": [
    "#distribucion de ventas de plataformas por año \n",
    "ventas_xplataforma_xaño=juegos.groupby([\"platform\", \"year_of_release\"])[\"ventas_totales\"].sum().sort_values(ascending=False).reset_index()\n",
    "print(ventas_xplataforma_xaño)\n",
    "\n",
    "#Plataformas muertas y activas\n",
    "#Filtrar los últimos 3 años con datos reales\n",
    "ultimos_3_años = juegos[\"year_of_release\"].dropna().sort_values().unique()[-3:]\n",
    "\n",
    "#Filtrar el DataFrame con esos años\n",
    "ventas_ultimos_3 = ventas_xplataforma_xaño[ventas_xplataforma_xaño[\"year_of_release\"].isin(ultimos_3_años)]\n",
    "\n",
    "#Obtener todas las plataformas existentes\n",
    "todas_plataformas = juegos[\"platform\"].unique()\n",
    "\n",
    "#Obtener las plataformas que **sí** tuvieron ventas en los últimos 3 años\n",
    "plataformas_activas = ventas_ultimos_3[\"platform\"].unique()\n",
    "print(\"Plataformas que QUE SI tienen ventas:\", plataformas_activas)\n",
    "\n",
    "#Las que no están en esa lista, están \"muertas\"\n",
    "plataformas_muertas = [p for p in todas_plataformas if p not in plataformas_activas]\n",
    "\n",
    "print(\"Plataformas que YA NO tienen ventas:\", plataformas_muertas)\n",
    "\n",
    "#Agrupar por plataforma y obtener año mínimo y máximo de ventas\n",
    "ciclo_vida = juegos.groupby(\"platform\")[\"year_of_release\"].agg([\"min\", \"max\"]).reset_index()\n",
    "\n",
    "#Calcular duración del ciclo de vida\n",
    "ciclo_vida[\"duracion\"] = ciclo_vida[\"max\"] - ciclo_vida[\"min\"] + 1  # +1 para incluir ambos extremos\n",
    "\n",
    "#Mostrar el ciclo de vida por plataforma\n",
    "print(ciclo_vida.sort_values(\"duracion\", ascending=False))\n",
    "\n",
    "#Calcular el promedio del ciclo de vida de todas las plataformas\n",
    "promedio_ciclo = ciclo_vida[\"duracion\"].mean()\n",
    "print(f\"\\n⏳ Ciclo de vida promedio de las plataformas: {promedio_ciclo:.2f} años\")"
   ]
  },
  {
   "cell_type": "markdown",
   "metadata": {},
   "source": [
    "Con la informaciòn anterior se concluye que se deben tomar en cuenta los datos de los ultimos 3 años (2013 a 2016) para proyectar el año 2017, ya que: \n",
    "-incluyen las plataformas mas actuales (PS4, XOne, 3DS, PSV, WiiU).\n",
    "-Un contexto más realista de las tendencias actuales de ventas y menor riesgo de incluir plataformas muertas o desactualizadas."
   ]
  },
  {
   "cell_type": "code",
   "execution_count": 13,
   "metadata": {},
   "outputs": [
    {
     "name": "stdout",
     "output_type": "stream",
     "text": [
      "                                name platform  year_of_release         genre  \\\n",
      "16                Grand Theft Auto V      PS3           2013.0        Action   \n",
      "23                Grand Theft Auto V     X360           2013.0        Action   \n",
      "31         Call of Duty: Black Ops 3      PS4           2015.0       Shooter   \n",
      "33               Pokemon X/Pokemon Y      3DS           2013.0  Role-Playing   \n",
      "42                Grand Theft Auto V      PS4           2014.0        Action   \n",
      "...                              ...      ...              ...           ...   \n",
      "16703               Strawberry Nauts      PSV           2016.0     Adventure   \n",
      "16707               Aiyoku no Eustia      PSV           2014.0          Misc   \n",
      "16710  Samurai Warriors: Sanada Maru      PS3           2016.0        Action   \n",
      "16712        Haitaka no Psychedelica      PSV           2016.0     Adventure   \n",
      "16714            Winning Post 8 2016      PSV           2016.0    Simulation   \n",
      "\n",
      "       na_sales  eu_sales  jp_sales  other_sales  critic_score  user_score  \\\n",
      "16         7.02      9.09      0.98         3.96     97.000000     8.20000   \n",
      "23         9.66      5.14      0.06         1.41     97.000000     8.10000   \n",
      "31         6.03      5.86      0.36         2.38     68.994363     7.12633   \n",
      "33         5.28      4.19      4.35         0.78     68.994363     7.12633   \n",
      "42         3.96      6.31      0.38         1.97     97.000000     8.30000   \n",
      "...         ...       ...       ...          ...           ...         ...   \n",
      "16703      0.00      0.00      0.01         0.00     68.994363     7.12633   \n",
      "16707      0.00      0.00      0.01         0.00     68.994363     7.12633   \n",
      "16710      0.00      0.00      0.01         0.00     68.994363     7.12633   \n",
      "16712      0.00      0.00      0.01         0.00     68.994363     7.12633   \n",
      "16714      0.00      0.00      0.01         0.00     68.994363     7.12633   \n",
      "\n",
      "      rating  ventas_totales  \n",
      "16         M           21.05  \n",
      "23         M           16.27  \n",
      "31         E           14.63  \n",
      "33         E           14.60  \n",
      "42         M           12.62  \n",
      "...      ...             ...  \n",
      "16703      E            0.01  \n",
      "16707      E            0.01  \n",
      "16710      E            0.01  \n",
      "16712      E            0.01  \n",
      "16714      E            0.01  \n",
      "\n",
      "[2233 rows x 12 columns]\n"
     ]
    }
   ],
   "source": [
    "#filtrar el DF con los ultimos 3 años solamente\n",
    "juegos2013_2016=juegos.query(\"year_of_release>2012\")\n",
    "print(juegos2013_2016)"
   ]
  },
  {
   "cell_type": "code",
   "execution_count": 14,
   "metadata": {},
   "outputs": [
    {
     "name": "stdout",
     "output_type": "stream",
     "text": [
      "   platform  year_of_release  ventas_totales\n",
      "0       PS4           2015.0          118.90\n",
      "1       PS3           2013.0          113.25\n",
      "2       PS4           2014.0          100.00\n",
      "3      X360           2013.0           88.58\n",
      "4       PS4           2016.0           69.25\n",
      "5      XOne           2015.0           60.14\n",
      "6       3DS           2013.0           56.57\n",
      "7      XOne           2014.0           54.07\n",
      "8       PS3           2014.0           47.76\n",
      "9       3DS           2014.0           43.76\n",
      "10     X360           2014.0           34.74\n",
      "11      3DS           2015.0           27.78\n",
      "12     XOne           2016.0           26.15\n",
      "13      PS4           2013.0           25.99\n",
      "14     WiiU           2014.0           22.03\n",
      "15     WiiU           2013.0           21.65\n",
      "16     XOne           2013.0           18.96\n",
      "17      PS3           2015.0           16.82\n",
      "18     WiiU           2015.0           16.35\n",
      "19      3DS           2016.0           15.14\n",
      "20       PC           2014.0           13.28\n",
      "21       PC           2013.0           12.38\n",
      "22     X360           2015.0           11.96\n",
      "23      PSV           2014.0           11.90\n",
      "24      PSV           2013.0           10.59\n",
      "25      Wii           2013.0            8.59\n",
      "26       PC           2015.0            8.52\n",
      "27      PSV           2015.0            6.25\n",
      "28       PC           2016.0            5.25\n",
      "29     WiiU           2016.0            4.60\n",
      "30      PSV           2016.0            4.25\n",
      "31      Wii           2014.0            3.75\n",
      "32      PS3           2016.0            3.60\n",
      "33      PSP           2013.0            3.14\n",
      "34       DS           2013.0            1.54\n",
      "35     X360           2016.0            1.52\n",
      "36      Wii           2015.0            1.14\n",
      "37      PSP           2014.0            0.24\n",
      "38      Wii           2016.0            0.18\n",
      "39      PSP           2015.0            0.12\n"
     ]
    },
    {
     "data": {
      "image/png": "[encoded data removed]",
      "text/plain": [
       "<Figure size 640x480 with 1 Axes>"
      ]
     },
     "metadata": {},
     "output_type": "display_data"
    }
   ],
   "source": [
    "#plataformas con mayor volumen de ventas totales\n",
    "lideres_ventas=juegos2013_2016.groupby([\"platform\", \"year_of_release\"])[\"ventas_totales\"].sum().sort_values(ascending=False).reset_index()\n",
    "print(lideres_ventas)\n",
    "tabla_pivot = lideres_ventas.pivot(index=\"year_of_release\", columns=\"platform\", values=\"ventas_totales\")\n",
    "tabla_pivot.plot(kind=\"bar\", title=\"Comparación de ventas totales al año por plataforma de juegos\", xlabel=\"Año\", ylabel=\"Ventas en $\")\n",
    "plt.show()"
   ]
  },
  {
   "cell_type": "markdown",
   "metadata": {},
   "source": [
    "**Con ayuda de la grafica anterior, podemos ver que las plataformas con mayor volumen de ventas en los ultimos tres años han sido PS4, XOne, 3DS, PS3. Se reduce PS4 de forma significativa, X360 y aumenta PS4**"
   ]
  },
  {
   "cell_type": "code",
   "execution_count": 15,
   "metadata": {},
   "outputs": [
    {
     "name": "stdout",
     "output_type": "stream",
     "text": [
      "   platform  ventas_totales\n",
      "0       PS4          314.14\n",
      "1       PS3          181.43\n",
      "2      XOne          159.32\n",
      "3       3DS          143.25\n",
      "4      X360          136.80\n",
      "5      WiiU           64.63\n",
      "6        PC           39.43\n",
      "7       PSV           32.99\n",
      "8       Wii           13.66\n",
      "9       PSP            3.50\n",
      "10       DS            1.54\n"
     ]
    },
    {
     "data": {
      "text/plain": [
       "<AxesSubplot:xlabel='platform', ylabel='ventas_totales'>"
      ]
     },
     "execution_count": 15,
     "metadata": {},
     "output_type": "execute_result"
    },
    {
     "data": {
      "image/png": "[encoded data removed]",
      "text/plain": [
       "<Figure size 640x480 with 1 Axes>"
      ]
     },
     "metadata": {},
     "output_type": "display_data"
    }
   ],
   "source": [
    "#diagrama de caja para ventas totales por plataforma \n",
    "ventas_totales_ultimos_años=juegos2013_2016.groupby(\"platform\")[\"ventas_totales\"].sum().sort_values(ascending=False).reset_index()\n",
    "print(ventas_totales_ultimos_años)\n",
    "\n",
    "import seaborn as sns\n",
    "sns.boxplot(x=\"platform\", y=\"ventas_totales\", data=ventas_totales_ultimos_años)"
   ]
  },
  {
   "cell_type": "markdown",
   "metadata": {},
   "source": [
    "**Las diferencias en ventas no son significativas entre los grupos de plataformas PS3, XOne, 3DS y X360\n",
    "Lo mismo ocurre entre Wii, PSP y DS**\n",
    "\n",
    "**La plataforma que mas ventas ha tenido es PS4 muy por encima de las otras plataformas**"
   ]
  },
  {
   "cell_type": "code",
   "execution_count": 16,
   "metadata": {},
   "outputs": [
    {
     "name": "stdout",
     "output_type": "stream",
     "text": [
      "Correlacion entre ventas totales y calificacion de usuarios de PS3 es:  -0.059426363119057066\n",
      "Correlacion entre ventas totales y calificacion de profesionales de PS3 es:  0.31771301962004556\n"
     ]
    },
    {
     "data": {
      "image/png": "[encoded data removed]",
      "text/plain": [
       "<Figure size 640x480 with 1 Axes>"
      ]
     },
     "metadata": {},
     "output_type": "display_data"
    },
    {
     "data": {
      "image/png": "[encoded data removed]",
      "text/plain": [
       "<Figure size 640x480 with 1 Axes>"
      ]
     },
     "metadata": {},
     "output_type": "display_data"
    }
   ],
   "source": [
    "#correlacion entre reseñas de usuarios y profesionales y la plataforma PS3\n",
    "plataforma_PS3 = juegos2013_2016.query(\"platform == 'PS3'\")\n",
    "print(\"Correlacion entre ventas totales y calificacion de usuarios de PS3 es: \",plataforma_PS3[\"ventas_totales\"].corr(plataforma_PS3[\"user_score\"]))\n",
    "print(\"Correlacion entre ventas totales y calificacion de profesionales de PS3 es: \",plataforma_PS3[\"ventas_totales\"].corr(plataforma_PS3[\"critic_score\"]))\n",
    "\n",
    "#grafico de dispersion\n",
    "plataforma_PS3.plot(kind=\"scatter\", x=\"user_score\", y=\"ventas_totales\", title=\"Relacion entre la calificación de los usuarios y las ventas totales de PS3\", xlabel=\"Calificacion de usuarios\", ylabel=\"Ventas totales en $\")\n",
    "plataforma_PS3.plot(kind=\"scatter\", x=\"critic_score\", y=\"ventas_totales\", title=\"Relacion entre la calificación de los profesionales y las ventas totales de PS3\", xlabel=\"Calificacion de profesionales\", ylabel=\"Ventas totales en $\")\n",
    "plt.show()"
   ]
  },
  {
   "cell_type": "markdown",
   "metadata": {},
   "source": [
    "**La correlacion entre ventas totales y calificacion de usuarios de PS3 es negativa, lo que indica que NO son directamente proporcionales. Cuando aumentan las calificaciones de los usuarios, no aumenta directamente las ventas totales de la plataforma, a diferencia de la correlacion entre las ventas totales y las calificaciones de los profesionales, ya que al ser positiva, nos indica que cuando aumenta la calificacion generada por estos, las ventas totales aumentan.**"
   ]
  },
  {
   "cell_type": "code",
   "execution_count": 17,
   "metadata": {},
   "outputs": [
    {
     "name": "stdout",
     "output_type": "stream",
     "text": [
      "                                        name platform  ventas_totales\n",
      "0                         Grand Theft Auto V      PS3           21.05\n",
      "1                         Grand Theft Auto V     X360           16.27\n",
      "2                  Call of Duty: Black Ops 3      PS4           14.63\n",
      "3                        Pokemon X/Pokemon Y      3DS           14.60\n",
      "4                         Grand Theft Auto V      PS4           12.62\n",
      "5  Pokemon Omega Ruby/Pokemon Alpha Sapphire      3DS           11.68\n",
      "6                       Call of Duty: Ghosts     X360           10.24\n",
      "7                       Call of Duty: Ghosts      PS3            9.36\n",
      "8                                  Minecraft     X360            9.18\n",
      "9                                    FIFA 16      PS4            8.58\n"
     ]
    },
    {
     "data": {
      "image/png": "[encoded data removed]",
      "text/plain": [
       "<Figure size 640x480 with 1 Axes>"
      ]
     },
     "metadata": {},
     "output_type": "display_data"
    }
   ],
   "source": [
    "#comparar top 10 de los mismos juegos en diferentes plataformas \n",
    "comparativo_juegos=juegos2013_2016.groupby([\"name\", \"platform\"])[\"ventas_totales\"].sum().sort_values(ascending=False).reset_index()\n",
    "top_10_comparativo_juegos=comparativo_juegos[0:10]\n",
    "print(top_10_comparativo_juegos)\n",
    "tabla_pivot = top_10_comparativo_juegos.pivot(index=\"platform\", columns=\"name\", values=\"ventas_totales\")\n",
    "tabla_pivot.plot(kind=\"bar\", title=\"Comparación de ventas totales de los mismos juegos por plataforma\", xlabel=\"Plataformas\", ylabel=\"Ventas en $\")\n",
    "plt.show()"
   ]
  },
  {
   "cell_type": "markdown",
   "metadata": {},
   "source": [
    "**Comparando el top 10 de los juegos con mayor volumen de ventas en las diferentes plataformas, podemos ver que Grand Theft Auto V es el pionero en la plataforma PS3 y x360 y curiosamente no lo es en la plataforma mas nueva de la misma compañia PS4. En esta ultima se destaca mas el juego Call of duty: Black ops 3**"
   ]
  },
  {
   "cell_type": "code",
   "execution_count": 18,
   "metadata": {},
   "outputs": [
    {
     "name": "stdout",
     "output_type": "stream",
     "text": [
      "           genre  ventas_totales\n",
      "0         Action          321.87\n",
      "1        Shooter          232.98\n",
      "2         Sports          150.65\n",
      "3   Role-Playing          145.89\n",
      "4           Misc           62.82\n",
      "5       Platform           42.63\n",
      "6         Racing           39.89\n",
      "7       Fighting           35.31\n",
      "8      Adventure           23.64\n",
      "9     Simulation           21.76\n",
      "10      Strategy           10.08\n",
      "11        Puzzle            3.17\n"
     ]
    },
    {
     "data": {
      "image/png": "[encoded data removed]",
      "text/plain": [
       "<Figure size 640x480 with 1 Axes>"
      ]
     },
     "metadata": {},
     "output_type": "display_data"
    }
   ],
   "source": [
    "#distribucion de los juegos por genero \n",
    "juegos_xgenero=juegos2013_2016.groupby(\"genre\")[\"ventas_totales\"].sum().sort_values(ascending=False).reset_index()\n",
    "print(juegos_xgenero)\n",
    "#grafica de barras comparando generos vs ventas totales\n",
    "juegos_xgenero.plot(kind=\"bar\", title=\"Comparación de ventas totales por genero\", xlabel=\"Genero\", ylabel=\"Ventas en $\", x=\"genre\", y=\"ventas_totales\")\n",
    "plt.show()"
   ]
  },
  {
   "cell_type": "markdown",
   "metadata": {},
   "source": [
    "**Los generos mas rentables son Action, Shooter, Sports, Role -Playing y Misc. Por el contrario, los generos con menos ventas son Puzzle y Strategy**"
   ]
  },
  {
   "cell_type": "markdown",
   "metadata": {},
   "source": [
    "### Etapa 4: Perfil de usuario por cada region "
   ]
  },
  {
   "cell_type": "markdown",
   "metadata": {},
   "source": [
    "#### Region NA "
   ]
  },
  {
   "cell_type": "code",
   "execution_count": 28,
   "metadata": {},
   "outputs": [
    {
     "name": "stdout",
     "output_type": "stream",
     "text": [
      "   platform  na_sales  ventas_totales  cuota_na\n",
      "0       PS4    108.74          314.14  0.346151\n",
      "1      XOne     93.12          159.32  0.584484\n",
      "2      X360     81.66          136.80  0.596930\n",
      "3       PS3     63.50          181.43  0.349997\n",
      "4       3DS     38.20          143.25  0.266667\n",
      "5      WiiU     29.21           64.63  0.451957\n",
      "6        PC     11.11           39.43  0.281765\n",
      "7       Wii      6.56           13.66  0.480234\n",
      "8       PSV      5.04           32.99  0.152774\n",
      "9        DS      0.57            1.54  0.370130\n",
      "10      PSP      0.00            3.50  0.000000\n"
     ]
    }
   ],
   "source": [
    "#Top de plataformas principales \n",
    "plataformas_na=juegos2013_2016.groupby(\"platform\")[\"na_sales\", \"ventas_totales\"].sum().sort_values(by=\"na_sales\", ascending=False).reset_index()\n",
    "\n",
    "#cuota de mercado NA\n",
    "plataformas_na[\"cuota_na\"]=plataformas_na[\"na_sales\"]/plataformas_na[\"ventas_totales\"]\n",
    "print(plataformas_na)"
   ]
  },
  {
   "cell_type": "markdown",
   "metadata": {},
   "source": [
    "Las 5 principales plataformas en NA son: PS4, Xone, X360, PS3 y 3DS con respecto a el volumen de ventas en esa region "
   ]
  },
  {
   "cell_type": "code",
   "execution_count": 30,
   "metadata": {},
   "outputs": [
    {
     "name": "stdout",
     "output_type": "stream",
     "text": [
      "           genre  na_sales\n",
      "0         Action    126.05\n",
      "1        Shooter    109.74\n",
      "2         Sports     65.27\n",
      "3   Role-Playing     46.40\n",
      "4           Misc     27.49\n",
      "5       Platform     18.14\n",
      "6       Fighting     15.55\n",
      "7         Racing     12.96\n",
      "8      Adventure      7.14\n",
      "9     Simulation      4.86\n",
      "10      Strategy      3.28\n",
      "11        Puzzle      0.83\n"
     ]
    }
   ],
   "source": [
    "#Top generos principales en NA\n",
    "generos_na= juegos2013_2016.groupby(\"genre\")[\"na_sales\"].sum().sort_values(ascending=False).reset_index()\n",
    "print(generos_na)"
   ]
  },
  {
   "cell_type": "markdown",
   "metadata": {},
   "source": [
    "Las 5 principales generos en NA son: Action, Shooter, Sports, Role-Playing y Misc con respecto a el volumen de ventas en esa region "
   ]
  },
  {
   "cell_type": "code",
   "execution_count": 67,
   "metadata": {},
   "outputs": [
    {
     "name": "stdout",
     "output_type": "stream",
     "text": [
      "  rating  na_sales  eu_sales  jp_sales\n",
      "0      E  0.131720  0.126873  0.078335\n",
      "1   E10+  0.215238  0.169405  0.023373\n",
      "2      M  0.447724  0.393821  0.038238\n",
      "3      T  0.149520  0.125976  0.061832\n",
      "Valor p: 1.289833092287197e-21\n",
      "La clasificación ESRB afecta significativamente las ventas en NA\n"
     ]
    }
   ],
   "source": [
    "#relacion entre rating y ventas en NA con prueba ANOVA que consulte que sirve para ver si las diferencias son significativas\n",
    "\n",
    "#Agrupar y calcular la media de ventas por ESRB en cada región\n",
    "ventas_por_rating = juegos2013_2016.groupby(\"rating\")[[\"na_sales\", \"eu_sales\", \"jp_sales\"]].mean().reset_index()\n",
    "print(ventas_por_rating)\n",
    "\n",
    "from scipy.stats import f_oneway\n",
    "\n",
    "# Separar ventas NA por grupo ESRB\n",
    "grupos_na = [grupo['na_sales'].dropna() for _, grupo in juegos2013_2016.groupby('rating')]\n",
    "f_stat, p_valor = f_oneway(*grupos_na)\n",
    "\n",
    "print(f\"Valor p: {p_valor}\")\n",
    "if p_valor < 0.05:\n",
    "    print(\"La clasificación ESRB afecta significativamente las ventas en NA\")\n",
    "else:\n",
    "    print(\"No hay evidencia de que la clasificación ESRB afecte las ventas en NA\")\n"
   ]
  },
  {
   "cell_type": "markdown",
   "metadata": {},
   "source": [
    "#### Region EU"
   ]
  },
  {
   "cell_type": "code",
   "execution_count": 35,
   "metadata": {},
   "outputs": [
    {
     "name": "stdout",
     "output_type": "stream",
     "text": [
      "   platform  eu_sales  ventas_totales  cuota_eu\n",
      "0       PS4    141.09          314.14  0.449131\n",
      "1       PS3     67.81          181.43  0.373753\n",
      "2      XOne     51.59          159.32  0.323814\n",
      "3      X360     42.52          136.80  0.310819\n",
      "4       3DS     30.96          143.25  0.216126\n",
      "5        PC     25.36           39.43  0.643165\n",
      "6      WiiU     19.85           64.63  0.307133\n",
      "7       PSV      6.10           32.99  0.184905\n",
      "8       Wii      5.93           13.66  0.434114\n",
      "9        DS      0.85            1.54  0.551948\n",
      "10      PSP      0.17            3.50  0.048571\n"
     ]
    }
   ],
   "source": [
    "#Top de plataformas principales EU\n",
    "plataformas_eu=juegos2013_2016.groupby(\"platform\")[\"eu_sales\", \"ventas_totales\"].sum().sort_values(by=\"eu_sales\", ascending=False).reset_index()\n",
    "\n",
    "#cuota de mercado EU\n",
    "plataformas_eu[\"cuota_eu\"]=plataformas_eu[\"eu_sales\"]/plataformas_eu[\"ventas_totales\"]\n",
    "print(plataformas_eu)"
   ]
  },
  {
   "cell_type": "markdown",
   "metadata": {},
   "source": [
    "Las 5 principales plataformas en EU son: PS4, PS3, XOne, X360 y 3DS con respecto a el volumen de ventas en esa region."
   ]
  },
  {
   "cell_type": "code",
   "execution_count": 40,
   "metadata": {},
   "outputs": [
    {
     "name": "stdout",
     "output_type": "stream",
     "text": [
      "           genre  eu_sales\n",
      "0         Action    118.13\n",
      "1        Shooter     87.86\n",
      "2         Sports     60.52\n",
      "3   Role-Playing     36.97\n",
      "4         Racing     20.19\n",
      "5           Misc     20.04\n",
      "6       Platform     15.58\n",
      "7     Simulation     10.92\n",
      "8       Fighting      8.55\n",
      "9      Adventure      8.25\n",
      "10      Strategy      4.22\n",
      "11        Puzzle      1.00\n"
     ]
    }
   ],
   "source": [
    "#Top generos principales en EU\n",
    "generos_eu= juegos2013_2016.groupby(\"genre\")[\"eu_sales\"].sum().sort_values(ascending=False).reset_index()\n",
    "print(generos_eu)"
   ]
  },
  {
   "cell_type": "markdown",
   "metadata": {},
   "source": [
    "Las 5 principales generos en EU son: Action, Shooter, Sports, Role-Playing y Racing con respecto a el volumen de ventas en esa region"
   ]
  },
  {
   "cell_type": "code",
   "execution_count": 69,
   "metadata": {},
   "outputs": [
    {
     "name": "stdout",
     "output_type": "stream",
     "text": [
      "Valor p: 6.720091141112694e-18\n",
      "La clasificación ESRB afecta significativamente las ventas en EU\n"
     ]
    }
   ],
   "source": [
    "#relacion entre rating y ventas en EU con prueba ANOVA que consulte que sirve para ver si las diferencias son significativas\n",
    "\n",
    "from scipy.stats import f_oneway\n",
    "\n",
    "# Separar ventas EU por grupo ESRB\n",
    "grupos_eu = [grupo['eu_sales'].dropna() for _, grupo in juegos2013_2016.groupby('rating')]\n",
    "f_stat, p_valor = f_oneway(*grupos_eu)\n",
    "\n",
    "print(f\"Valor p: {p_valor}\")\n",
    "if p_valor < 0.05:\n",
    "    print(\"La clasificación ESRB afecta significativamente las ventas en EU\")\n",
    "else:\n",
    "    print(\"No hay evidencia de que la clasificación ESRB afecte las ventas en EU\")"
   ]
  },
  {
   "cell_type": "markdown",
   "metadata": {},
   "source": [
    "#### Region JP"
   ]
  },
  {
   "cell_type": "code",
   "execution_count": 39,
   "metadata": {},
   "outputs": [
    {
     "name": "stdout",
     "output_type": "stream",
     "text": [
      "   platform  jp_sales  ventas_totales  cuota_jp\n",
      "0       3DS     67.81          143.25  0.473368\n",
      "1       PS3     23.35          181.43  0.128700\n",
      "2       PSV     18.59           32.99  0.563504\n",
      "3       PS4     15.96          314.14  0.050805\n",
      "4      WiiU     10.88           64.63  0.168343\n",
      "5       PSP      3.29            3.50  0.940000\n",
      "6      X360      0.51          136.80  0.003728\n",
      "7      XOne      0.34          159.32  0.002134\n",
      "8       Wii      0.05           13.66  0.003660\n",
      "9        DS      0.00            1.54  0.000000\n",
      "10       PC      0.00           39.43  0.000000\n"
     ]
    }
   ],
   "source": [
    "#Top de plataformas principales JP\n",
    "plataformas_jp=juegos2013_2016.groupby(\"platform\")[\"jp_sales\", \"ventas_totales\"].sum().sort_values(by=\"jp_sales\", ascending=False).reset_index()\n",
    "\n",
    "#cuota de mercado JP\n",
    "plataformas_jp[\"cuota_jp\"]=plataformas_jp[\"jp_sales\"]/plataformas_jp[\"ventas_totales\"]\n",
    "print(plataformas_jp)"
   ]
  },
  {
   "cell_type": "markdown",
   "metadata": {},
   "source": [
    "Las 5 principales plataformas en JP son: 3DS, PS3, PSV, PS4 y WiiU con respecto a el volumen de ventas en esa region."
   ]
  },
  {
   "cell_type": "code",
   "execution_count": 41,
   "metadata": {},
   "outputs": [
    {
     "name": "stdout",
     "output_type": "stream",
     "text": [
      "           genre  jp_sales\n",
      "0   Role-Playing     51.04\n",
      "1         Action     40.49\n",
      "2           Misc      9.20\n",
      "3       Fighting      7.65\n",
      "4        Shooter      6.61\n",
      "5      Adventure      5.82\n",
      "6         Sports      5.41\n",
      "7       Platform      4.79\n",
      "8     Simulation      4.52\n",
      "9         Racing      2.30\n",
      "10      Strategy      1.77\n",
      "11        Puzzle      1.18\n"
     ]
    }
   ],
   "source": [
    "#Top generos principales en JP\n",
    "generos_jp= juegos2013_2016.groupby(\"genre\")[\"jp_sales\"].sum().sort_values(ascending=False).reset_index()\n",
    "print(generos_jp)"
   ]
  },
  {
   "cell_type": "markdown",
   "metadata": {},
   "source": [
    "Las 5 principales generos en JP son: Role-Playing, Action, Misc, Fighting, Shooter y Adventure con respecto a el volumen de ventas en esa region"
   ]
  },
  {
   "cell_type": "code",
   "execution_count": 70,
   "metadata": {},
   "outputs": [
    {
     "name": "stdout",
     "output_type": "stream",
     "text": [
      "Valor p: 0.0007392126070138082\n",
      "La clasificación ESRB afecta significativamente las ventas en JP\n"
     ]
    }
   ],
   "source": [
    "#relacion entre rating y ventas en JP con prueba ANOVA \n",
    "\n",
    "from scipy.stats import f_oneway\n",
    "\n",
    "# Separar ventas EU por grupo ESRB\n",
    "grupos_jp = [grupo['jp_sales'].dropna() for _, grupo in juegos2013_2016.groupby('rating')]\n",
    "f_stat, p_valor = f_oneway(*grupos_jp)\n",
    "\n",
    "print(f\"Valor p: {p_valor}\")\n",
    "if p_valor < 0.05:\n",
    "    print(\"La clasificación ESRB afecta significativamente las ventas en JP\")\n",
    "else:\n",
    "    print(\"No hay evidencia de que la clasificación ESRB afecte las ventas en JP\")"
   ]
  },
  {
   "cell_type": "markdown",
   "metadata": {},
   "source": [
    "**Conclusiones Generales:** El top 5 de plataformas y generos en NA y EU son muy similares por no decir iguales, a diferencia de la region de JP donde el Top varia significativamente. En cuanto a la cuota de mercado que tiene cada plataforma en cada region, se puede ver que las plataformas de Xbox tiene mas cuota de mercado en NA, a diferencia de EU, donde PC y DS tienen la mayor cuota de mercado. En JP mayor cuota de mercado la tiene la plataforma PSP. \n",
    "\n",
    "En cuanto a la calificacion ESRB afecta en todas regiones significativamente las ventas segun las pruebas estadisticas aplicadas (ANOVA)"
   ]
  },
  {
   "cell_type": "markdown",
   "metadata": {},
   "source": [
    "### Etapa 5: Prueba de hipotesis "
   ]
  },
  {
   "cell_type": "code",
   "execution_count": 58,
   "metadata": {},
   "outputs": [
    {
     "name": "stdout",
     "output_type": "stream",
     "text": [
      "Se rechaza H0: Las varianzas son significativamente diferentes\n",
      "valor p: 0.06817560404247579\n",
      "No se puede rechazar la hipótesis nula: no hay diferencia significativa.\n"
     ]
    }
   ],
   "source": [
    "#Hipotesis nula: Las calificaciones promedio de los usuarios de Xbox One y PC son las mismas\n",
    "#Hipotesis alternativa: Las calificaciones promedio de los usuarios de Xbox One y PC son diferentes \n",
    "\n",
    "juegos_xone=juegos2013_2016.query(\"platform =='XOne'\")\n",
    "juegos_pc=juegos2013_2016.query(\"platform == 'PC'\")\n",
    "\n",
    "# Extraer las columnas numéricas y eliminar NaNs\n",
    "xone_scores = juegos_xone[\"user_score\"].dropna()\n",
    "pc_scores = juegos_pc[\"user_score\"].dropna()\n",
    "\n",
    "# Prueba de Levene sobre varianzas\n",
    "stat, p = levene(xone_scores, pc_scores)\n",
    "\n",
    "if p < 0.05:\n",
    "    print(\"Se rechaza H0: Las varianzas son significativamente diferentes\")\n",
    "else:\n",
    "    print(\"No se rechaza H0: Las varianzas son iguales\")\n",
    "\n",
    "#prueba de hipotesis de dos colas ya que la Hipotesis no refiere que sea mayor o menor que el promedio de la otra poblacion \n",
    "#el valor de equal_val lo dejo en False porque la prueba Levene arrojo que las varianzas son significativamente diferentes\n",
    "alpha = 0.05\n",
    "results = st.ttest_ind(xone_scores, pc_scores, equal_var=False)\n",
    "print(\"valor p:\", results.pvalue)\n",
    "if results.pvalue < alpha:\n",
    "    print(\"Se rechaza la hipótesis nula: Las calificaciones promedio de los usuarios de Xbox One y PC son diferentes.\")\n",
    "else:\n",
    "    print(\"No se puede rechazar la hipótesis nula: no hay diferencia significativa.\")\n"
   ]
  },
  {
   "cell_type": "markdown",
   "metadata": {},
   "source": [
    "**Teniendo en cuenta el resultado de la prueba, se podria concluir que las calificaciones promedio de los usuarios de Xbox One y PC son las mismas.**"
   ]
  },
  {
   "cell_type": "code",
   "execution_count": 61,
   "metadata": {},
   "outputs": [
    {
     "name": "stdout",
     "output_type": "stream",
     "text": [
      "Se rechaza H0: Las varianzas son significativamente diferentes\n",
      "valor p: 1.4084155169856942e-20\n",
      "Se rechaza la hipótesis nula: Las calificaciones promedio de los usuarios de los generos Accion y Deportes son diferentes.\n"
     ]
    }
   ],
   "source": [
    "#Hipotesis nula: Las calificaciones promedio de los usuarios para los generos de Accion y Deportes son iguales\n",
    "#Hipotesis alternativa: Las calificaciones promedio de los usuarios para los generos de Accion y Deportes son diferentes\n",
    "\n",
    "juegos_action=juegos2013_2016.query(\"genre =='Action'\")\n",
    "juegos_sports=juegos2013_2016.query(\"genre == 'Sports'\")\n",
    "\n",
    "# Extraer las columnas numéricas y eliminar NaNs\n",
    "action_scores = juegos_action[\"user_score\"].dropna()\n",
    "sports_scores = juegos_sports[\"user_score\"].dropna()\n",
    "\n",
    "# Prueba de Levene sobre varianzas\n",
    "stat, p = levene(action_scores, sports_scores)\n",
    "\n",
    "if p < 0.05:\n",
    "    print(\"Se rechaza H0: Las varianzas son significativamente diferentes\")\n",
    "else:\n",
    "    print(\"No se rechaza H0: Las varianzas son iguales\")\n",
    "\n",
    "#prueba de hipotesis de dos colas ya que la Hipotesis no refiere que sea mayor o menor que el promedio de la otra poblacion\n",
    "#el valor de equal_val lo dejo en False porque la prueba Levene arrojo que las varianzas son significativamente diferentes\n",
    "alpha = 0.05\n",
    "results = st.ttest_ind(action_scores, sports_scores, equal_var=False)\n",
    "print(\"valor p:\", results.pvalue)\n",
    "if results.pvalue < alpha:\n",
    "    print(\"Se rechaza la hipótesis nula: Las calificaciones promedio de los usuarios de los generos Accion y Deportes son diferentes.\")\n",
    "else:\n",
    "    print(\"No se puede rechazar la hipótesis nula: no hay diferencia significativa.\")"
   ]
  },
  {
   "cell_type": "markdown",
   "metadata": {},
   "source": [
    "**Teniendo en cuenta el resultado de la prueba, se podria concluir que las calificaciones promedio de los usuarios de los generos de Accion y deportes son diferentes**"
   ]
  },
  {
   "cell_type": "markdown",
   "metadata": {},
   "source": [
    "### Conclusion general: \n",
    "\n",
    "1. Plataformas dominantes\n",
    "PS4, PS3, XOne, 3DS y X360 concentran la mayor parte de las ventas recientes.\n",
    "PS4 lidera en ventas totales con 314.14 millones, seguida por PS3 y XOne.\n",
    "Muchas plataformas ya no son relevantes (ej. DS, PSP, Wii).\n",
    "\n",
    "Proyección 2017: \n",
    "\n",
    "PS4 y XOne seguirán dominando, pero se espera una caída de PS3 y X360, ya en declive por obsolescencia.\n",
    "Las plataformas con buena cuota en varias regiones (como PS4 y 3DS) tienen ventaja. PC tiene fuerte presencia en Europa pero es irrelevante en Japón.\n",
    "Action, Shooter y Sports son los más populares en todas las regiones.\n",
    "Enfocar lanzamientos en géneros Action, Shooter, Sports, y RPG para Japón maximiza ventas.\n",
    "Ajustar estrategias por región, especialmente Japón vs resto del mundo.\n",
    "Considerar calificaciones de críticos como factor de marketing y confianza.\n",
    "\n"
   ]
  }
 ],
 "metadata": {
  "kernelspec": {
   "display_name": "Python 3 (ipykernel)",
   "language": "python",
   "name": "python3"
  },
  "language_info": {
   "codemirror_mode": {
    "name": "ipython",
    "version": 3
   },
   "file_extension": ".py",
   "mimetype": "text/x-python",
   "name": "python",
   "nbconvert_exporter": "python",
   "pygments_lexer": "ipython3",
   "version": "3.9.23"
  }
 },
 "nbformat": 4,
 "nbformat_minor": 4
}
